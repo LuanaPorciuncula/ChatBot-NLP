{
  "nbformat": 4,
  "nbformat_minor": 0,
  "metadata": {
    "colab": {
      "name": "projeto-classif.ipynb",
      "provenance": [],
      "collapsed_sections": []
    },
    "kernelspec": {
      "name": "python3",
      "display_name": "Python 3"
    },
    "language_info": {
      "name": "python"
    }
  },
  "cells": [
    {
      "cell_type": "code",
      "metadata": {
        "id": "U8MHADBJUK4l",
        "colab": {
          "base_uri": "https://localhost:8080/"
        },
        "outputId": "6d61f791-0bd2-4999-f57f-9082d05d7f82"
      },
      "source": [
        "from urllib.request import urlopen\n",
        "import ssl\n",
        "import json\n",
        "\n",
        "ctx = ssl.create_default_context()\n",
        "ctx.check_hostname = False\n",
        "ctx.verify_mode = ssl.CERT_NONE\n",
        "\n",
        "dataTrain = urlopen(\"https://raw.githubusercontent.com/budzianowski/multiwoz/master/data/MultiWOZ_2.2/train/dialogues_001.json\", context=ctx).read().decode()\n",
        "dataTest = urlopen(\"https://raw.githubusercontent.com/budzianowski/multiwoz/master/data/MultiWOZ_2.2/test/dialogues_001.json\", context=ctx).read().decode()\n",
        "\n",
        "myJsonTrain = json.loads(dataTrain)\n",
        "myJsonTest = json.loads(dataTest)\n",
        "print (json.dumps(myJsonTrain[0], indent=1)[0:100])\n",
        "print (json.dumps(myJsonTest[0], indent=1)[0:100])"
      ],
      "execution_count": 41,
      "outputs": [
        {
          "output_type": "stream",
          "text": [
            "{\n",
            " \"dialogue_id\": \"PMUL4398.json\",\n",
            " \"services\": [\n",
            "  \"restaurant\",\n",
            "  \"hotel\"\n",
            " ],\n",
            " \"turns\": [\n",
            "  {\n",
            "   \"\n",
            "{\n",
            " \"dialogue_id\": \"MUL0484.json\",\n",
            " \"services\": [\n",
            "  \"attraction\",\n",
            "  \"train\"\n",
            " ],\n",
            " \"turns\": [\n",
            "  {\n",
            "   \"f\n"
          ],
          "name": "stdout"
        }
      ]
    },
    {
      "cell_type": "code",
      "metadata": {
        "id": "a1aMyngwSsvz"
      },
      "source": [
        "import numpy as np\n",
        "\n",
        "import tensorflow_datasets as tfds\n",
        "import tensorflow as tf"
      ],
      "execution_count": 42,
      "outputs": []
    },
    {
      "cell_type": "code",
      "metadata": {
        "id": "5oWqao78U9xc",
        "colab": {
          "base_uri": "https://localhost:8080/"
        },
        "outputId": "0ed88e65-6bdb-4760-fbc9-6f26784de170"
      },
      "source": [
        "# filter\n",
        "def filter(data):\n",
        "  res = []\n",
        "\n",
        "  for i, obj in enumerate(data):\n",
        "      turns = obj.get(\"turns\", None)\n",
        "      for turn in turns:\n",
        "          if turn is not None:\n",
        "              utterance = turn.get(\"utterance\", None)\n",
        "              if utterance is not None:\n",
        "                  frames = turn.get(\"frames\", None)\n",
        "                  if frames is not None:\n",
        "                      for frame in frames: \n",
        "                          state = frame.get(\"state\", None)\n",
        "                          if state is not None:\n",
        "                              active_intent = state.get(\"active_intent\", None)\n",
        "                              if active_intent is not None:\n",
        "                                  if active_intent == \"find_restaurant\":\n",
        "                                    active_intent = 1\n",
        "                                  elif active_intent == \"book_restaurant\":\n",
        "                                    active_intent = 2\n",
        "                                  else:\n",
        "                                    active_intent = 0\n",
        "\n",
        "                                  res.append((utterance, active_intent))\n",
        "                                  break\n",
        "\n",
        "  return res\n",
        "\n",
        "train_dataset = filter(myJsonTrain)\n",
        "for i, elem in enumerate(train_dataset):\n",
        "      print(elem)\n",
        "      if i > 30:\n",
        "        print(\"--------------------\")\n",
        "        break\n",
        "test_dataset = filter(myJsonTest)\n",
        "for i, elem in enumerate(test_dataset):\n",
        "      print(elem)\n",
        "      if i > 30:\n",
        "        print(\"--------------------\")\n",
        "        break\n",
        "\n",
        "\n",
        "train_dataset = tf.data.Dataset.from_tensor_slices(\n",
        "      (\n",
        "          tf.cast([text for text, label in train_dataset], tf.string),\n",
        "          tf.cast([label for text, label in train_dataset], tf.int32)\n",
        "      )\n",
        "  )\n",
        "\n",
        "test_dataset = tf.data.Dataset.from_tensor_slices(\n",
        "      (\n",
        "          [text for text, label in test_dataset],\n",
        "          [label for text, label in test_dataset]\n",
        "      )\n",
        "  )\n",
        "\n",
        "BUFFER_SIZE = 10000\n",
        "BATCH_SIZE = 64\n",
        "train_dataset = train_dataset.batch(BATCH_SIZE).prefetch(tf.data.AUTOTUNE)\n",
        "test_dataset = test_dataset.batch(BATCH_SIZE).prefetch(tf.data.AUTOTUNE)"
      ],
      "execution_count": 43,
      "outputs": [
        {
          "output_type": "stream",
          "text": [
            "('i need a place to dine in the center thats expensive', 1)\n",
            "('Any sort of food would be fine, as long as it is a bit expensive. Could I get the phone number for your recommendation?', 1)\n",
            "('Sounds good, could I get that phone number? Also, could you recommend me an expensive hotel?', 1)\n",
            "('Yes. Can you book it for me?', 0)\n",
            "('i want to book it for 2 people and 2 nights starting from saturday.', 0)\n",
            "('That is all I need to know. Thanks, good bye.', 0)\n",
            "('Guten Tag, I am staying overnight in Cambridge and need a place to sleep. I need free parking and internet.', 0)\n",
            "(\"No, but I'd really like to be on the south end of the city. Do any of those fit the bill?\", 0)\n",
            "(\"No I don't care about the price. Which one do you recommend?\", 0)\n",
            "('Yes, book it for 4 people and 4 nights starting from tuesday.', 0)\n",
            "('How about for 3 nights?', 0)\n",
            "('Great. I am all set then. Have a nice day. Bye.', 0)\n",
            "('Hi there! Can you give me some info on Cityroomz?', 0)\n",
            "('Yes please. I need it for 7 people for 3 nights starting on tuesday.', 0)\n",
            "('I would like to book it for 3 nights beginning on Tuesday.', 0)\n",
            "('Yeah, I need a restaurant in the west and with expensive pricing.', 1)\n",
            "(\"No, I don't have a preference, but I need the phone number and postcode.\", 1)\n",
            "('No, right now, I just need the infor. Thanks!', 0)\n",
            "('That is all. thanks', 0)\n",
            "('I am looking for a hotel named alyesbray lodge guest house.', 0)\n",
            "('I would like to book a reservation for it. Can you help me with that?', 0)\n",
            "('We will be arriving on Sunday and will stay for 5 nights.', 0)\n",
            "('There will be 8 guests.', 0)\n",
            "('that is it thank you.', 0)\n",
            "('Can you actually look up a restaurant for me as well?', 0)\n",
            "(\"It's a place called Don Pasquale Pizzeria.\", 1)\n",
            "(\"Yes, I do. I'll need it booked for the same day, same people, and we'd like to eat at 19:00.\", 2)\n",
            "(\"Great. One more thing. Can you book a taxi between the two places? I'd like to arrive at the restaurant in time for my reservation.\", 0)\n",
            "('Thank you so much that was all I needed.', 0)\n",
            "('i need a train on tuesday out of kings lynn', 0)\n",
            "('I want to leave on Tuesday.', 0)\n",
            "(\"I'd like to leave after 9:30.\", 0)\n",
            "--------------------\n",
            "('I need train reservations from norwich to cambridge', 0)\n",
            "(\"I'd like to leave on Monday and arrive by 18:00.\", 0)\n",
            "('Before booking, I would also like to know the travel time, price, and departure time please.', 0)\n",
            "('No hold off on booking for now. Can you help me find an attraction called cineworld cinema?', 0)\n",
            "('Yes, that was all I needed. Thank you very much!', 0)\n",
            "('Hello, I am looking for a restaurant in Cambridge. I believe it is called Golden Wok.', 1)\n",
            "('Can you book me a table for 11:00 on Friday?', 2)\n",
            "('Actually, for 4, please.', 2)\n",
            "('Great, can you also get me information or architecture in the area', 0)\n",
            "('What do you recommend?', 0)\n",
            "('Can I get the postcode for that? I also need to book a taxi to the Golden Wok.', 0)\n",
            "(\"Yes I do. I'd like to make sure I arrive at the restaurant by the booked time. Can you check?\", 0)\n",
            "('Actually all you have to do is set the taxi so it arrives by the arrived time. Am I better off booking it myself?', 0)\n",
            "('I need the contact number and car type also.', 0)\n",
            "('Thanks for the service, good day.', 0)\n",
            "(\"Hi, I'm looking for a hotel to stay in that includes free wifi. I'm looking to stay in a hotel, not a guesthouse.\", 0)\n",
            "('I would like one in the moderate price range and with free parking.', 0)\n",
            "('Okay, please book that for 3 people and 2 nights starting from Friday.', 0)\n",
            "('I would love to find a restaurant in the same price range as the Lovell Lodge.', 1)\n",
            "('I would like the west please.', 1)\n",
            "(\"I'm sorry. I actually need a restaurant in the centre.\", 1)\n",
            "('I would like chinese. I would like that for 7pm.', 2)\n",
            "('Sounds great, thanks! Actually, can you please just tell me the postcode and address?', 2)\n",
            "('I will also need a taxi to take me between the two place. Leaving from the restaurant at 24:30', 0)\n",
            "(\"I don't think that matters. Can you just make sure I leave the restaurant to the hotel no later than 24:30.\", 0)\n",
            "('Thank you so much for your help.', 0)\n",
            "('I am looking for a place to stay in the north of the city. I would prefer a 4 star hotel please.', 0)\n",
            "('No price preference needed', 0)\n",
            "('Does it have free wifi?', 0)\n",
            "('I think that would be fine.', 0)\n",
            "('I would like it book for Sunday for 5 people and 3 nights. Can I have the booking number please.', 0)\n",
            "('I also need a train that departs from cambridge.', 0)\n",
            "--------------------\n"
          ],
          "name": "stdout"
        }
      ]
    },
    {
      "cell_type": "code",
      "metadata": {
        "id": "SBG7vEA1YJl9"
      },
      "source": [
        "import matplotlib.pyplot as plt\n",
        "\n",
        "\n",
        "def plot_graphs(history, metric):\n",
        "  plt.plot(history.history[metric])\n",
        "  plt.plot(history.history['val_'+metric], '')\n",
        "  plt.xlabel(\"Epochs\")\n",
        "  plt.ylabel(metric)\n",
        "  plt.legend([metric, 'val_'+metric])"
      ],
      "execution_count": 44,
      "outputs": []
    },
    {
      "cell_type": "code",
      "metadata": {
        "colab": {
          "base_uri": "https://localhost:8080/"
        },
        "id": "vCTeANYNBSJv",
        "outputId": "8f5a8299-271c-4b42-a4db-9292be641150"
      },
      "source": [
        "for example, label in train_dataset.take(1):\n",
        "  print('texts: ', example.numpy())\n",
        "  print()\n",
        "  print('labels: ', label.numpy())"
      ],
      "execution_count": 45,
      "outputs": [
        {
          "output_type": "stream",
          "text": [
            "texts:  [b'i need a place to dine in the center thats expensive'\n",
            " b'Any sort of food would be fine, as long as it is a bit expensive. Could I get the phone number for your recommendation?'\n",
            " b'Sounds good, could I get that phone number? Also, could you recommend me an expensive hotel?'\n",
            " b'Yes. Can you book it for me?'\n",
            " b'i want to book it for 2 people and 2 nights starting from saturday.'\n",
            " b'That is all I need to know. Thanks, good bye.'\n",
            " b'Guten Tag, I am staying overnight in Cambridge and need a place to sleep. I need free parking and internet.'\n",
            " b\"No, but I'd really like to be on the south end of the city. Do any of those fit the bill?\"\n",
            " b\"No I don't care about the price. Which one do you recommend?\"\n",
            " b'Yes, book it for 4 people and 4 nights starting from tuesday.'\n",
            " b'How about for 3 nights?'\n",
            " b'Great. I am all set then. Have a nice day. Bye.'\n",
            " b'Hi there! Can you give me some info on Cityroomz?'\n",
            " b'Yes please. I need it for 7 people for 3 nights starting on tuesday.'\n",
            " b'I would like to book it for 3 nights beginning on Tuesday.'\n",
            " b'Yeah, I need a restaurant in the west and with expensive pricing.'\n",
            " b\"No, I don't have a preference, but I need the phone number and postcode.\"\n",
            " b'No, right now, I just need the infor. Thanks!' b'That is all. thanks'\n",
            " b'I am looking for a hotel named alyesbray lodge guest house.'\n",
            " b'I would like to book a reservation for it. Can you help me with that?'\n",
            " b'We will be arriving on Sunday and will stay for 5 nights.'\n",
            " b'There will be 8 guests.' b'that is it thank you.'\n",
            " b'Can you actually look up a restaurant for me as well?'\n",
            " b\"It's a place called Don Pasquale Pizzeria.\"\n",
            " b\"Yes, I do. I'll need it booked for the same day, same people, and we'd like to eat at 19:00.\"\n",
            " b\"Great. One more thing. Can you book a taxi between the two places? I'd like to arrive at the restaurant in time for my reservation.\"\n",
            " b'Thank you so much that was all I needed.'\n",
            " b'i need a train on tuesday out of kings lynn'\n",
            " b'I want to leave on Tuesday.' b\"I'd like to leave after 9:30.\"\n",
            " b'Looking for a train Tuesday leaving kings lynn after 9:30 to go to cambridge.'\n",
            " b\"No, I'd like a train leaving after 09:30 departing from Kings Lynn and going to Cambridge. Please take another look?\"\n",
            " b'Wow...no, I really needed that time. I guess not. Thanks anyway.'\n",
            " b'Yes, that works. Please book for two people. Thanks for checking again.'\n",
            " b'Perfect. Thank you for your help. Have a great day. Bye.'\n",
            " b'Have a nice day.'\n",
            " b'I am looking for a restaurant. I would like something cheap that has Chinese food.'\n",
            " b'Yes, could you make a reservation for 1 at 20:00 on Saturday?'\n",
            " b'Thank you so much for your help!' b'Thanks, you too. Goodbye.'\n",
            " b'Please find me a train from cambridge to stansted airport'\n",
            " b'Saturday leaving Cambridge anytime after 20:00 please'\n",
            " b'Can you book me 6 tickets please?'\n",
            " b'I am also looking for The Riverside Brasserie.'\n",
            " b'Yes, I would like to book it and get a reference number.'\n",
            " b'Can you try for Saturday at 13:00?' b'6 people will be dining'\n",
            " b'Thanks for everything you have been great!'\n",
            " b'No that is all I needed. Thank you ever so kindly.'\n",
            " b\"I'm looking for an expensive restaurant in the centre if you could help me.\"\n",
            " b\"No, not really. I think I'd like to try something different. Could you suggest something?\"\n",
            " b'Yes, I would like both the phone number and the postcode please.'\n",
            " b'Can I also have the address please?'\n",
            " b'I also want to see the travel times for a train going from Kings Lynn from Cambridge on Saturday. It should leave after 09:15.'\n",
            " b'I got that backwards. Need a train leaving Kings Lynn after 9:15 and arriving in Cambridge sometime on Saturday.'\n",
            " b'Sure. Could you tell me the exact travel time?'\n",
            " b'that is it for today. good day thank you'\n",
            " b\"I'm looking for a places to go and see during my upcoming trip to Cambridge.\"\n",
            " b'I would like to go to the south area please.'\n",
            " b\"That's a lot of choices, how about nightclubs? Can you get me a couple of phone numbers for good ones? I'm hoping to catch DJ Squalour from Ibiza!\"\n",
            " b'Yes, I would like an expensive hotel with free parking.'\n",
            " b'Is it four star?']\n",
            "\n",
            "labels:  [1 1 1 0 0 0 0 0 0 0 0 0 0 0 0 1 1 0 0 0 0 0 0 0 0 1 2 0 0 0 0 0 0 0 0 0 0\n",
            " 0 1 2 0 0 0 0 0 1 1 2 2 0 0 1 1 1 1 0 0 0 0 0 0 0 0 0]\n"
          ],
          "name": "stdout"
        }
      ]
    },
    {
      "cell_type": "code",
      "metadata": {
        "id": "0S-S11Hhcp79",
        "colab": {
          "base_uri": "https://localhost:8080/"
        },
        "outputId": "8d52ba70-a8b5-4913-a262-20bf854cc7f2"
      },
      "source": [
        "# encoder\n",
        "encoder = tf.keras.layers.experimental.preprocessing.TextVectorization()\n",
        "encoder.adapt(train_dataset.map(lambda text, label: text))\n",
        "\n",
        "vocab = np.array(encoder.get_vocabulary())\n",
        "print(vocab[:20])\n",
        "print(\"vocab size:\", len(vocab))"
      ],
      "execution_count": 46,
      "outputs": [
        {
          "output_type": "stream",
          "text": [
            "['' '[UNK]' 'i' 'the' 'a' 'to' 'for' 'you' 'need' 'and' 'that' 'in'\n",
            " 'please' 'can' 'me' 'is' 'on' 'thank' 'like' 'it']\n",
            "vocab size: 1385\n"
          ],
          "name": "stdout"
        }
      ]
    },
    {
      "cell_type": "code",
      "metadata": {
        "id": "13QRWGQbh19k",
        "colab": {
          "base_uri": "https://localhost:8080/"
        },
        "outputId": "9f73ddb5-fe53-460a-d492-234b17ce579d"
      },
      "source": [
        "encoded_example = encoder(example).numpy()\n",
        "encoded_example"
      ],
      "execution_count": 47,
      "outputs": [
        {
          "output_type": "execute_result",
          "data": {
            "text/plain": [
              "array([[   2,    8,    4, ...,    0,    0,    0],\n",
              "       [  73,  704,   21, ...,    0,    0,    0],\n",
              "       [  89,   96,   59, ...,    0,    0,    0],\n",
              "       ...,\n",
              "       [  49,    4,  472, ...,  952,   42, 1147],\n",
              "       [  20,    2,   22, ...,    0,    0,    0],\n",
              "       [  15,   19,  253, ...,    0,    0,    0]])"
            ]
          },
          "metadata": {
            "tags": []
          },
          "execution_count": 47
        }
      ]
    },
    {
      "cell_type": "code",
      "metadata": {
        "id": "IMAEobJKqHv8",
        "colab": {
          "base_uri": "https://localhost:8080/"
        },
        "outputId": "28f6aaeb-9119-4cc7-f9ac-643d39654541"
      },
      "source": [
        "for n in range(3):\n",
        "  print(\"Original: \", example[n].numpy())\n",
        "  print(\"Round-trip: \", \" \".join(vocab[encoded_example[n]]))\n",
        "  print()"
      ],
      "execution_count": 48,
      "outputs": [
        {
          "output_type": "stream",
          "text": [
            "Original:  b'i need a place to dine in the center thats expensive'\n",
            "Round-trip:  i need a place to dine in the center thats expensive                 \n",
            "\n",
            "Original:  b'Any sort of food would be fine, as long as it is a bit expensive. Could I get the phone number for your recommendation?'\n",
            "Round-trip:  any sort of food would be fine as long as it is a bit expensive could i get the phone number for your recommendation    \n",
            "\n",
            "Original:  b'Sounds good, could I get that phone number? Also, could you recommend me an expensive hotel?'\n",
            "Round-trip:  sounds good could i get that phone number also could you recommend me an expensive hotel            \n",
            "\n"
          ],
          "name": "stdout"
        }
      ]
    },
    {
      "cell_type": "code",
      "metadata": {
        "id": "jo1jjO3vn0jo"
      },
      "source": [
        "model = tf.keras.Sequential([\n",
        "    encoder,\n",
        "    tf.keras.layers.Embedding(len(encoder.get_vocabulary()), 64, mask_zero=True),\n",
        "    tf.keras.layers.Bidirectional(tf.keras.layers.LSTM(64,  return_sequences=True)),\n",
        "    tf.keras.layers.Bidirectional(tf.keras.layers.LSTM(32)),\n",
        "    tf.keras.layers.Dense(64, activation='relu'),\n",
        "    tf.keras.layers.Dropout(0.5),\n",
        "    tf.keras.layers.Dense(3, activation=\"softmax\")\n",
        "])"
      ],
      "execution_count": 49,
      "outputs": []
    },
    {
      "cell_type": "code",
      "metadata": {
        "id": "7aRy9zs5to9x",
        "colab": {
          "base_uri": "https://localhost:8080/"
        },
        "outputId": "6eb4e430-82a0-4a2f-cd08-680c6e2ce521"
      },
      "source": [
        "print([layer.supports_masking for layer in model.layers])"
      ],
      "execution_count": 50,
      "outputs": [
        {
          "output_type": "stream",
          "text": [
            "[False, True, True, True, True, True, True]\n"
          ],
          "name": "stdout"
        }
      ]
    },
    {
      "cell_type": "code",
      "metadata": {
        "id": "O41gw3KfWHus",
        "colab": {
          "base_uri": "https://localhost:8080/"
        },
        "outputId": "38328b56-2b03-47b8-9818-122e54480187"
      },
      "source": [
        "# predict on a sample text without padding.\n",
        "\n",
        "sample_text = (\"I'm looking for a local place to dine in the centre that serves chinese food.\")\n",
        "predictions = model.predict(np.array([sample_text]))\n",
        "print(predictions[0])"
      ],
      "execution_count": 51,
      "outputs": [
        {
          "output_type": "stream",
          "text": [
            "[0.33417222 0.33359656 0.33223122]\n"
          ],
          "name": "stdout"
        }
      ]
    },
    {
      "cell_type": "code",
      "metadata": {
        "id": "UIgpuTeFNDzq",
        "colab": {
          "base_uri": "https://localhost:8080/"
        },
        "outputId": "48dd6a80-0729-491b-9aeb-544d08173a08"
      },
      "source": [
        "# predict on a sample text with padding\n",
        "\n",
        "padding = \"the \" * 2000\n",
        "predictions = model.predict(np.array([sample_text, padding]))\n",
        "print(predictions[0])"
      ],
      "execution_count": 52,
      "outputs": [
        {
          "output_type": "stream",
          "text": [
            "[0.33417222 0.33359656 0.33223122]\n"
          ],
          "name": "stdout"
        }
      ]
    },
    {
      "cell_type": "code",
      "metadata": {
        "id": "hEPV5jVGp-is"
      },
      "source": [
        "model.compile(loss=tf.keras.losses.SparseCategoricalCrossentropy(from_logits=False),\n",
        "              optimizer=tf.keras.optimizers.Adam(1e-4),\n",
        "              metrics=['accuracy'])"
      ],
      "execution_count": 53,
      "outputs": []
    },
    {
      "cell_type": "code",
      "metadata": {
        "id": "cl5VZzHGu0mI",
        "colab": {
          "base_uri": "https://localhost:8080/"
        },
        "outputId": "90165433-8e9d-488a-aa1a-ec2f9d9a20cd"
      },
      "source": [
        "history = model.fit(train_dataset, epochs=10,\n",
        "                    validation_data=test_dataset,\n",
        "                    validation_steps=30, verbose=1)"
      ],
      "execution_count": 54,
      "outputs": [
        {
          "output_type": "stream",
          "text": [
            "Epoch 1/10\n",
            "56/56 [==============================] - 28s 213ms/step - loss: 1.0543 - accuracy: 0.7575 - val_loss: 0.9737 - val_accuracy: 0.7906\n",
            "Epoch 2/10\n",
            "56/56 [==============================] - 7s 118ms/step - loss: 0.8411 - accuracy: 0.7796 - val_loss: 0.7026 - val_accuracy: 0.7906\n",
            "Epoch 3/10\n",
            "56/56 [==============================] - 7s 118ms/step - loss: 0.7165 - accuracy: 0.7796 - val_loss: 0.6403 - val_accuracy: 0.7906\n",
            "Epoch 4/10\n",
            "56/56 [==============================] - 7s 119ms/step - loss: 0.6421 - accuracy: 0.7793 - val_loss: 0.5770 - val_accuracy: 0.7906\n",
            "Epoch 5/10\n",
            "56/56 [==============================] - 7s 118ms/step - loss: 0.5670 - accuracy: 0.7833 - val_loss: 0.5056 - val_accuracy: 0.8005\n",
            "Epoch 6/10\n",
            "56/56 [==============================] - 7s 117ms/step - loss: 0.4842 - accuracy: 0.8173 - val_loss: 0.4685 - val_accuracy: 0.8328\n",
            "Epoch 7/10\n",
            "56/56 [==============================] - 7s 118ms/step - loss: 0.4377 - accuracy: 0.8493 - val_loss: 0.4507 - val_accuracy: 0.8469\n",
            "Epoch 8/10\n",
            "56/56 [==============================] - 7s 119ms/step - loss: 0.4121 - accuracy: 0.8606 - val_loss: 0.4379 - val_accuracy: 0.8526\n",
            "Epoch 9/10\n",
            "56/56 [==============================] - 7s 120ms/step - loss: 0.3901 - accuracy: 0.8660 - val_loss: 0.4237 - val_accuracy: 0.8609\n",
            "Epoch 10/10\n",
            "56/56 [==============================] - 7s 118ms/step - loss: 0.3631 - accuracy: 0.8717 - val_loss: 0.4139 - val_accuracy: 0.8641\n"
          ],
          "name": "stdout"
        }
      ]
    },
    {
      "cell_type": "code",
      "metadata": {
        "colab": {
          "base_uri": "https://localhost:8080/"
        },
        "id": "W5BSrh6okwnd",
        "outputId": "b99c867b-925c-48a3-b3da-78605ce8f370"
      },
      "source": [
        "test_loss, test_acc = model.evaluate(test_dataset)\n",
        "\n",
        "print('Test Loss:', test_loss)\n",
        "print('Test Accuracy:', test_acc)"
      ],
      "execution_count": 55,
      "outputs": [
        {
          "output_type": "stream",
          "text": [
            "61/61 [==============================] - 2s 30ms/step - loss: 0.4169 - accuracy: 0.8621\n",
            "Test Loss: 0.41686728596687317\n",
            "Test Accuracy: 0.8620510101318359\n"
          ],
          "name": "stdout"
        }
      ]
    },
    {
      "cell_type": "code",
      "metadata": {
        "colab": {
          "base_uri": "https://localhost:8080/"
        },
        "id": "jKtPIfc1ysSs",
        "outputId": "d6fafba9-2c59-48cf-91c3-6d2785456b6a"
      },
      "source": [
        "from sklearn.metrics import classification_report\n",
        "\n",
        "y_pred = model.predict(test_dataset)\n",
        "predicted_categories = tf.argmax(y_pred, axis=1)\n",
        "true_categories = tf.concat([y for x, y in test_dataset], axis=0)\n",
        "print(classification_report(predicted_categories, true_categories, zero_division=0))"
      ],
      "execution_count": 56,
      "outputs": [
        {
          "output_type": "stream",
          "text": [
            "              precision    recall  f1-score   support\n",
            "\n",
            "           0       0.98      0.90      0.94      3277\n",
            "           1       0.62      0.62      0.62       565\n",
            "           2       0.00      0.00      0.00         0\n",
            "\n",
            "    accuracy                           0.86      3842\n",
            "   macro avg       0.54      0.51      0.52      3842\n",
            "weighted avg       0.93      0.86      0.90      3842\n",
            "\n"
          ],
          "name": "stdout"
        }
      ]
    },
    {
      "cell_type": "code",
      "metadata": {
        "colab": {
          "base_uri": "https://localhost:8080/",
          "height": 519
        },
        "id": "pf7DmlIsk75A",
        "outputId": "f242ef84-2860-4ada-b597-29420100bbef"
      },
      "source": [
        "plt.figure(figsize=(16, 8))\n",
        "plt.subplot(1, 2, 1)\n",
        "plot_graphs(history, 'accuracy')\n",
        "plt.ylim(None, 1)\n",
        "plt.subplot(1, 2, 2)\n",
        "plot_graphs(history, 'loss')\n",
        "plt.ylim(0, None)"
      ],
      "execution_count": 57,
      "outputs": [
        {
          "output_type": "execute_result",
          "data": {
            "text/plain": [
              "(0.0, 1.0888698428869248)"
            ]
          },
          "metadata": {
            "tags": []
          },
          "execution_count": 57
        },
        {
          "output_type": "display_data",
          "data": {
            "image/png": "[encoded data removed]",
            "text/plain": [
              "<Figure size 1152x576 with 2 Axes>"
            ]
          },
          "metadata": {
            "tags": [],
            "needs_background": "light"
          }
        }
      ]
    },
    {
      "cell_type": "code",
      "metadata": {
        "id": "wD6tk1JqmLwk"
      },
      "source": [
        "model = tf.keras.Sequential([\n",
        "    encoder,\n",
        "    tf.keras.layers.Embedding(len(encoder.get_vocabulary()), 64, mask_zero=True),\n",
        "    tf.keras.layers.Bidirectional(tf.keras.layers.LSTM(64,  return_sequences=True)),\n",
        "    tf.keras.layers.Bidirectional(tf.keras.layers.LSTM(32)),\n",
        "    tf.keras.layers.Dense(64, activation='relu'),\n",
        "    tf.keras.layers.Dropout(0.5),\n",
        "    tf.keras.layers.Dense(3, activation=\"softmax\")\n",
        "])"
      ],
      "execution_count": 58,
      "outputs": []
    },
    {
      "cell_type": "code",
      "metadata": {
        "id": "NeCeRJSmmeZL"
      },
      "source": [
        "model.compile(loss=tf.keras.losses.SparseCategoricalCrossentropy(from_logits=False),\n",
        "              optimizer=tf.keras.optimizers.Adam(1e-4),\n",
        "              metrics=['accuracy'])"
      ],
      "execution_count": 59,
      "outputs": []
    },
    {
      "cell_type": "code",
      "metadata": {
        "colab": {
          "base_uri": "https://localhost:8080/"
        },
        "id": "9lHM_rQemlW-",
        "outputId": "c371966a-fb04-4659-cc06-ba0bae56cca6"
      },
      "source": [
        "history = model.fit(train_dataset, epochs=10,\n",
        "                    validation_data=test_dataset,\n",
        "                    validation_steps=30)"
      ],
      "execution_count": 60,
      "outputs": [
        {
          "output_type": "stream",
          "text": [
            "Epoch 1/10\n",
            "56/56 [==============================] - 33s 213ms/step - loss: 1.0581 - accuracy: 0.7340 - val_loss: 0.9812 - val_accuracy: 0.7906\n",
            "Epoch 2/10\n",
            "56/56 [==============================] - 7s 118ms/step - loss: 0.8502 - accuracy: 0.7796 - val_loss: 0.7047 - val_accuracy: 0.7906\n",
            "Epoch 3/10\n",
            "56/56 [==============================] - 7s 118ms/step - loss: 0.7235 - accuracy: 0.7796 - val_loss: 0.6425 - val_accuracy: 0.7906\n",
            "Epoch 4/10\n",
            "56/56 [==============================] - 7s 117ms/step - loss: 0.6479 - accuracy: 0.7796 - val_loss: 0.5765 - val_accuracy: 0.7906\n",
            "Epoch 5/10\n",
            "56/56 [==============================] - 7s 117ms/step - loss: 0.5677 - accuracy: 0.7816 - val_loss: 0.5027 - val_accuracy: 0.7995\n",
            "Epoch 6/10\n",
            "56/56 [==============================] - 7s 118ms/step - loss: 0.4888 - accuracy: 0.8227 - val_loss: 0.4640 - val_accuracy: 0.8359\n",
            "Epoch 7/10\n",
            "56/56 [==============================] - 7s 118ms/step - loss: 0.4418 - accuracy: 0.8516 - val_loss: 0.4414 - val_accuracy: 0.8510\n",
            "Epoch 8/10\n",
            "56/56 [==============================] - 7s 119ms/step - loss: 0.4054 - accuracy: 0.8657 - val_loss: 0.4236 - val_accuracy: 0.8589\n",
            "Epoch 9/10\n",
            "56/56 [==============================] - 7s 122ms/step - loss: 0.3889 - accuracy: 0.8722 - val_loss: 0.4077 - val_accuracy: 0.8641\n",
            "Epoch 10/10\n",
            "56/56 [==============================] - 7s 121ms/step - loss: 0.3585 - accuracy: 0.8785 - val_loss: 0.3969 - val_accuracy: 0.8646\n"
          ],
          "name": "stdout"
        }
      ]
    },
    {
      "cell_type": "code",
      "metadata": {
        "id": "_vSM_L9hmrsV",
        "colab": {
          "base_uri": "https://localhost:8080/"
        },
        "outputId": "92dde367-97b8-4656-e155-7483b4077b93"
      },
      "source": [
        "test_loss, test_acc = model.evaluate(test_dataset)\n",
        "\n",
        "print('Test Loss:', test_loss)\n",
        "print('Test Accuracy:', test_acc)"
      ],
      "execution_count": 61,
      "outputs": [
        {
          "output_type": "stream",
          "text": [
            "61/61 [==============================] - 2s 31ms/step - loss: 0.4026 - accuracy: 0.8623\n",
            "Test Loss: 0.40259695053100586\n",
            "Test Accuracy: 0.8623113036155701\n"
          ],
          "name": "stdout"
        }
      ]
    },
    {
      "cell_type": "code",
      "metadata": {
        "id": "RQPAFBLxmz6_",
        "colab": {
          "base_uri": "https://localhost:8080/",
          "height": 388
        },
        "outputId": "42a209f5-71e3-456e-87c3-209ac4407a3d"
      },
      "source": [
        "plt.figure(figsize=(16, 6))\n",
        "plt.subplot(1, 2, 1)\n",
        "plot_graphs(history, 'accuracy')\n",
        "plt.subplot(1, 2, 2)\n",
        "plot_graphs(history, 'loss')"
      ],
      "execution_count": 62,
      "outputs": [
        {
          "output_type": "display_data",
          "data": {
            "image/png": "[encoded data removed]",
            "text/plain": [
              "<Figure size 1152x432 with 2 Axes>"
            ]
          },
          "metadata": {
            "tags": [],
            "needs_background": "light"
          }
        }
      ]
    },
    {
      "cell_type": "code",
      "metadata": {
        "colab": {
          "base_uri": "https://localhost:8080/"
        },
        "id": "p7oMdk_I-p88",
        "outputId": "ad6feb90-22d1-4097-fcef-020c5149340c"
      },
      "source": [
        "from sklearn.metrics import classification_report\n",
        "\n",
        "y_pred = model.predict(test_dataset)\n",
        "predicted_categories = tf.argmax(y_pred, axis=1)\n",
        "true_categories = tf.concat([y for x, y in test_dataset], axis=0)\n",
        "print(classification_report(predicted_categories, true_categories, zero_division=0))"
      ],
      "execution_count": 63,
      "outputs": [
        {
          "output_type": "stream",
          "text": [
            "              precision    recall  f1-score   support\n",
            "\n",
            "           0       0.98      0.91      0.94      3254\n",
            "           1       0.64      0.62      0.63       588\n",
            "           2       0.00      0.00      0.00         0\n",
            "\n",
            "    accuracy                           0.86      3842\n",
            "   macro avg       0.54      0.51      0.52      3842\n",
            "weighted avg       0.93      0.86      0.89      3842\n",
            "\n"
          ],
          "name": "stdout"
        }
      ]
    }
  ]
}